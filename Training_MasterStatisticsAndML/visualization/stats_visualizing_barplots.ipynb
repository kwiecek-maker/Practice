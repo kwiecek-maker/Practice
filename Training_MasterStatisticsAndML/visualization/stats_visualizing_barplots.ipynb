{
 "cells": [
  {
   "cell_type": "markdown",
   "metadata": {},
   "source": [
    "# COURSE: Master statistics and machine learning: Intuition, Math, code\n",
    "##### COURSE URL: udemy.com/course/statsml_x/?couponCode=202304 \n",
    "## SECTION: Visualizing data\n",
    "### VIDEO: Bar plots\n",
    "#### TEACHER: Mike X Cohen, sincxpress.com\n"
   ]
  },
  {
   "cell_type": "code",
   "execution_count": 2,
   "metadata": {
    "scrolled": true
   },
   "outputs": [
    {
     "name": "stdout",
     "output_type": "stream",
     "text": [
      "Collecting matplotlibNote: you may need to restart the kernel to use updated packages.\n"
     ]
    },
    {
     "name": "stderr",
     "output_type": "stream",
     "text": [
      "\n",
      "[notice] A new release of pip is available: 23.2.1 -> 25.0.1\n",
      "[notice] To update, run: python.exe -m pip install --upgrade pip\n"
     ]
    },
    {
     "name": "stdout",
     "output_type": "stream",
     "text": [
      "\n",
      "  Obtaining dependency information for matplotlib from https://files.pythonhosted.org/packages/57/68/c2feb4667adbf882ffa4b3e0ac9967f848980d9f8b5bebd86644aa67ce6a/matplotlib-3.9.4-cp39-cp39-win_amd64.whl.metadata\n",
      "  Using cached matplotlib-3.9.4-cp39-cp39-win_amd64.whl.metadata (11 kB)\n",
      "Collecting contourpy>=1.0.1 (from matplotlib)\n",
      "  Obtaining dependency information for contourpy>=1.0.1 from https://files.pythonhosted.org/packages/53/23/db9f69676308e094d3c45f20cc52e12d10d64f027541c995d89c11ad5c75/contourpy-1.3.0-cp39-cp39-win_amd64.whl.metadata\n",
      "  Using cached contourpy-1.3.0-cp39-cp39-win_amd64.whl.metadata (5.4 kB)\n",
      "Collecting cycler>=0.10 (from matplotlib)\n",
      "  Obtaining dependency information for cycler>=0.10 from https://files.pythonhosted.org/packages/e7/05/c19819d5e3d95294a6f5947fb9b9629efb316b96de511b418c53d245aae6/cycler-0.12.1-py3-none-any.whl.metadata\n",
      "  Using cached cycler-0.12.1-py3-none-any.whl.metadata (3.8 kB)\n",
      "Collecting fonttools>=4.22.0 (from matplotlib)\n",
      "  Obtaining dependency information for fonttools>=4.22.0 from https://files.pythonhosted.org/packages/00/8f/430abf16726cd627e176df92c452f239fcc488fac1e23c9ab57bb7ad6976/fonttools-4.56.0-cp39-cp39-win_amd64.whl.metadata\n",
      "  Using cached fonttools-4.56.0-cp39-cp39-win_amd64.whl.metadata (103 kB)\n",
      "Collecting kiwisolver>=1.3.1 (from matplotlib)\n",
      "  Obtaining dependency information for kiwisolver>=1.3.1 from https://files.pythonhosted.org/packages/ef/17/cd10d020578764ea91740204edc6b3236ed8106228a46f568d716b11feb2/kiwisolver-1.4.7-cp39-cp39-win_amd64.whl.metadata\n",
      "  Using cached kiwisolver-1.4.7-cp39-cp39-win_amd64.whl.metadata (6.4 kB)\n",
      "Collecting numpy>=1.23 (from matplotlib)\n",
      "  Obtaining dependency information for numpy>=1.23 from https://files.pythonhosted.org/packages/ea/2b/7fc9f4e7ae5b507c1a3a21f0f15ed03e794c1242ea8a242ac158beb56034/numpy-2.0.2-cp39-cp39-win_amd64.whl.metadata\n",
      "  Using cached numpy-2.0.2-cp39-cp39-win_amd64.whl.metadata (59 kB)\n",
      "Requirement already satisfied: packaging>=20.0 in c:\\users\\katarzyna\\pycharmprojects\\masterstatisticsandml\\venv\\lib\\site-packages (from matplotlib) (24.2)\n",
      "Collecting pillow>=8 (from matplotlib)\n",
      "  Obtaining dependency information for pillow>=8 from https://files.pythonhosted.org/packages/21/a6/f51d47675940b5c63b08ff0575b3518428b4acb891f88526fa4ee1edab6f/pillow-11.1.0-cp39-cp39-win_amd64.whl.metadata\n",
      "  Using cached pillow-11.1.0-cp39-cp39-win_amd64.whl.metadata (9.3 kB)\n",
      "Collecting pyparsing>=2.3.1 (from matplotlib)\n",
      "  Obtaining dependency information for pyparsing>=2.3.1 from https://files.pythonhosted.org/packages/1c/a7/c8a2d361bf89c0d9577c934ebb7421b25dc84bf3a8e3ac0a40aed9acc547/pyparsing-3.2.1-py3-none-any.whl.metadata\n",
      "  Using cached pyparsing-3.2.1-py3-none-any.whl.metadata (5.0 kB)\n",
      "Requirement already satisfied: python-dateutil>=2.7 in c:\\users\\katarzyna\\pycharmprojects\\masterstatisticsandml\\venv\\lib\\site-packages (from matplotlib) (2.9.0.post0)\n",
      "Collecting importlib-resources>=3.2.0 (from matplotlib)\n",
      "  Obtaining dependency information for importlib-resources>=3.2.0 from https://files.pythonhosted.org/packages/a4/ed/1f1afb2e9e7f38a545d628f864d562a5ae64fe6f7a10e28ffb9b185b4e89/importlib_resources-6.5.2-py3-none-any.whl.metadata\n",
      "  Using cached importlib_resources-6.5.2-py3-none-any.whl.metadata (3.9 kB)\n",
      "Requirement already satisfied: zipp>=3.1.0 in c:\\users\\katarzyna\\pycharmprojects\\masterstatisticsandml\\venv\\lib\\site-packages (from importlib-resources>=3.2.0->matplotlib) (3.21.0)\n",
      "Requirement already satisfied: six>=1.5 in c:\\users\\katarzyna\\pycharmprojects\\masterstatisticsandml\\venv\\lib\\site-packages (from python-dateutil>=2.7->matplotlib) (1.17.0)\n",
      "Using cached matplotlib-3.9.4-cp39-cp39-win_amd64.whl (7.8 MB)\n",
      "Using cached contourpy-1.3.0-cp39-cp39-win_amd64.whl (211 kB)\n",
      "Using cached cycler-0.12.1-py3-none-any.whl (8.3 kB)\n",
      "Using cached fonttools-4.56.0-cp39-cp39-win_amd64.whl (2.2 MB)\n",
      "Using cached importlib_resources-6.5.2-py3-none-any.whl (37 kB)\n",
      "Using cached kiwisolver-1.4.7-cp39-cp39-win_amd64.whl (55 kB)\n",
      "Using cached numpy-2.0.2-cp39-cp39-win_amd64.whl (15.9 MB)\n",
      "Using cached pillow-11.1.0-cp39-cp39-win_amd64.whl (2.6 MB)\n",
      "Using cached pyparsing-3.2.1-py3-none-any.whl (107 kB)\n",
      "Installing collected packages: pyparsing, pillow, numpy, kiwisolver, importlib-resources, fonttools, cycler, contourpy, matplotlib\n",
      "Successfully installed contourpy-1.3.0 cycler-0.12.1 fonttools-4.56.0 importlib-resources-6.5.2 kiwisolver-1.4.7 matplotlib-3.9.4 numpy-2.0.2 pillow-11.1.0 pyparsing-3.2.1\n"
     ]
    }
   ],
   "source": [
    "pip install matplotlib"
   ]
  },
  {
   "cell_type": "code",
   "execution_count": 5,
   "metadata": {
    "scrolled": true
   },
   "outputs": [
    {
     "name": "stdout",
     "output_type": "stream",
     "text": [
      "Collecting pandas\n",
      "  Obtaining dependency information for pandas from https://files.pythonhosted.org/packages/2f/49/5c30646e96c684570925b772eac4eb0a8cb0ca590fa978f56c5d3ae73ea1/pandas-2.2.3-cp39-cp39-win_amd64.whl.metadata\n",
      "  Using cached pandas-2.2.3-cp39-cp39-win_amd64.whl.metadata (19 kB)\n",
      "Requirement already satisfied: numpy>=1.22.4 in c:\\users\\katarzyna\\pycharmprojects\\masterstatisticsandml\\venv\\lib\\site-packages (from pandas) (2.0.2)\n",
      "Requirement already satisfied: python-dateutil>=2.8.2 in c:\\users\\katarzyna\\pycharmprojects\\masterstatisticsandml\\venv\\lib\\site-packages (from pandas) (2.9.0.post0)\n",
      "Collecting pytz>=2020.1 (from pandas)\n",
      "  Obtaining dependency information for pytz>=2020.1 from https://files.pythonhosted.org/packages/eb/38/ac33370d784287baa1c3d538978b5e2ea064d4c1b93ffbd12826c190dd10/pytz-2025.1-py2.py3-none-any.whl.metadata\n",
      "  Downloading pytz-2025.1-py2.py3-none-any.whl.metadata (22 kB)\n",
      "Collecting tzdata>=2022.7 (from pandas)\n",
      "  Obtaining dependency information for tzdata>=2022.7 from https://files.pythonhosted.org/packages/0f/dd/84f10e23edd882c6f968c21c2434fe67bd4a528967067515feca9e611e5e/tzdata-2025.1-py2.py3-none-any.whl.metadata\n",
      "  Downloading tzdata-2025.1-py2.py3-none-any.whl.metadata (1.4 kB)\n",
      "Requirement already satisfied: six>=1.5 in c:\\users\\katarzyna\\pycharmprojects\\masterstatisticsandml\\venv\\lib\\site-packages (from python-dateutil>=2.8.2->pandas) (1.17.0)\n",
      "Using cached pandas-2.2.3-cp39-cp39-win_amd64.whl (11.6 MB)\n",
      "Downloading pytz-2025.1-py2.py3-none-any.whl (507 kB)\n",
      "   ---------------------------------------- 0.0/507.9 kB ? eta -:--:--\n",
      "   ------------ --------------------------- 153.6/507.9 kB 9.0 MB/s eta 0:00:01\n",
      "   ------------------------ --------------- 307.2/507.9 kB 3.2 MB/s eta 0:00:01\n",
      "   ---------------------------------------  501.8/507.9 kB 3.9 MB/s eta 0:00:01\n",
      "   ---------------------------------------- 507.9/507.9 kB 2.9 MB/s eta 0:00:00\n",
      "Downloading tzdata-2025.1-py2.py3-none-any.whl (346 kB)\n",
      "   ---------------------------------------- 0.0/346.8 kB ? eta -:--:--\n",
      "   --------------------------------------  337.9/346.8 kB 20.5 MB/s eta 0:00:01\n",
      "   ---------------------------------------- 346.8/346.8 kB 5.3 MB/s eta 0:00:00\n",
      "Installing collected packages: pytz, tzdata, pandas\n",
      "Successfully installed pandas-2.2.3 pytz-2025.1 tzdata-2025.1\n",
      "Note: you may need to restart the kernel to use updated packages.\n"
     ]
    },
    {
     "name": "stderr",
     "output_type": "stream",
     "text": [
      "\n",
      "[notice] A new release of pip is available: 23.2.1 -> 25.0.1\n",
      "[notice] To update, run: python.exe -m pip install --upgrade pip\n"
     ]
    }
   ],
   "source": [
    "pip install pandas"
   ]
  },
  {
   "cell_type": "code",
   "execution_count": 6,
   "metadata": {},
   "outputs": [],
   "source": [
    "# import libraries\n",
    "import matplotlib.pyplot as plt\n",
    "import numpy as np\n",
    "import pandas as pd"
   ]
  },
  {
   "cell_type": "code",
   "execution_count": 14,
   "metadata": {},
   "outputs": [],
   "source": [
    "## create data for the bar plot\n",
    "\n",
    "# data sizes\n",
    "m = 30 # rows\n",
    "n =  6 # columns\n",
    "\n",
    "# generate data\n",
    "data = np.zeros((m,n))\n",
    "\n",
    "for i in range(n):\n",
    "    data[:,i] = 30*np.random.randn(m) * (2*i/(n-1)-1)**2 + (i+1)**2"
   ]
  },
  {
   "cell_type": "code",
   "execution_count": 15,
   "metadata": {
    "scrolled": true
   },
   "outputs": [
    {
     "data": {
      "text/plain": [
       "array([[ 3.83237379e+01, -3.60341050e+00,  1.05381800e+01,\n",
       "         1.56201317e+01,  3.52217492e+01,  5.52826955e+01],\n",
       "       [ 2.01593972e+01, -1.06271012e+01,  9.07847587e+00,\n",
       "         1.50663738e+01, -1.24843124e+00,  5.78621370e+01],\n",
       "       [ 1.88255518e+01,  9.65969917e+00,  7.41387360e+00,\n",
       "         1.54471085e+01,  2.57818188e+01, -7.91870709e+00],\n",
       "       [-1.32488559e+01, -8.27324259e+00,  9.96977923e+00,\n",
       "         1.56251041e+01,  3.05193557e+01,  5.16558158e+01],\n",
       "       [-3.65643538e+01,  9.34401916e+00,  9.33604358e+00,\n",
       "         1.60049179e+01,  2.55724016e+01, -4.11900257e+00],\n",
       "       [ 3.03375533e+01, -1.26461223e+01,  9.28947251e+00,\n",
       "         1.55736723e+01,  2.59404230e+01,  8.25295233e+01],\n",
       "       [-4.16678453e+00,  3.90927818e+00,  9.59575032e+00,\n",
       "         1.58790775e+01,  2.29345263e+01,  5.97468283e+01],\n",
       "       [ 9.48078334e-01,  1.28442611e+01,  1.07849332e+01,\n",
       "         1.58265815e+01,  2.16182159e+01,  1.41388521e+01],\n",
       "       [ 3.33372641e+01, -5.26777145e+00,  1.15526573e+01,\n",
       "         1.61508507e+01,  2.26507080e+01,  8.50732140e+01],\n",
       "       [-4.58306595e+01,  1.41893207e+01,  7.22970239e+00,\n",
       "         1.48603571e+01,  1.60692081e+01,  6.68435357e+01],\n",
       "       [ 2.79453188e+01,  1.02980041e+01,  6.36066051e+00,\n",
       "         1.91015904e+01,  2.71934867e+01,  8.14288570e+01],\n",
       "       [-9.82383694e+00, -8.81174666e+00,  6.86068525e+00,\n",
       "         1.67738590e+01,  2.48209223e+01,  8.36516947e+01],\n",
       "       [-2.16060852e+01,  2.91331413e+01,  7.74047376e+00,\n",
       "         1.69764294e+01,  4.58332444e+01,  1.16728617e+02],\n",
       "       [ 7.05166520e+01,  2.99628574e+00,  9.35251755e+00,\n",
       "         1.65033078e+01,  2.73799225e+01,  5.97593989e+01],\n",
       "       [-7.39459829e-01,  8.29671323e+00,  8.69747165e+00,\n",
       "         1.62142376e+01,  8.93857019e+00,  4.64765959e+01],\n",
       "       [-1.49991056e+01, -2.76039840e+00,  6.27463588e+00,\n",
       "         1.61461706e+01,  2.89011452e+01,  5.48516050e+01],\n",
       "       [ 1.60588689e+01, -2.65154428e+01,  8.94309311e+00,\n",
       "         1.35552054e+01,  3.39050296e+01,  6.24070191e+01],\n",
       "       [-3.13090865e+01,  2.62003431e+01,  9.26160848e+00,\n",
       "         1.61906021e+01,  2.28214534e+01,  1.39325720e+01],\n",
       "       [-3.77684316e+00,  4.78615241e-01,  9.96010280e+00,\n",
       "         1.49731136e+01, -4.72797540e-02,  4.56596592e+01],\n",
       "       [ 3.32340678e-01,  8.49639398e+00,  1.04676449e+01,\n",
       "         1.46380371e+01,  3.53484497e+01,  1.04864236e+01],\n",
       "       [-4.75849829e+01, -9.72872468e+00,  9.34242997e+00,\n",
       "         1.65747553e+01,  2.28796256e+01,  4.92882999e+01],\n",
       "       [-3.60066163e+01,  1.63960052e-01,  8.34893301e+00,\n",
       "         1.63027783e+01,  2.13255170e+01,  7.35105520e+01],\n",
       "       [ 1.96433287e+01, -1.06267502e+01,  8.01928125e+00,\n",
       "         1.79702526e+01,  4.74593017e+01,  2.52514806e+01],\n",
       "       [ 2.34872829e+00,  1.19133453e+01,  8.34741850e+00,\n",
       "         1.65205861e+01,  2.55976797e+01,  1.69446801e+01],\n",
       "       [ 3.59700944e+01,  1.16221060e+01,  5.64672036e+00,\n",
       "         1.65914499e+01,  1.26553556e+01,  6.61527449e+01],\n",
       "       [-4.27999584e+01,  4.98133352e+00,  9.02549951e+00,\n",
       "         1.50304582e+01,  4.54681584e+01, -2.14356640e+01],\n",
       "       [ 3.56062233e+01,  8.57166798e+00,  8.60464046e+00,\n",
       "         1.66812289e+01,  3.68741981e+01,  4.88232608e+01],\n",
       "       [-6.71277312e+00,  1.17988554e+00,  9.59149537e+00,\n",
       "         1.57783658e+01,  2.10950976e+01,  6.77621300e+01],\n",
       "       [ 3.19928143e+00,  9.64218654e+00,  7.75710089e+00,\n",
       "         1.75079267e+01,  3.42733216e+01,  6.03254938e+01],\n",
       "       [-2.38481159e+01,  1.89361610e+01,  7.44177278e+00,\n",
       "         1.60137828e+01,  3.98576226e+01,  4.38505893e+01]])"
      ]
     },
     "execution_count": 15,
     "metadata": {},
     "output_type": "execute_result"
    }
   ],
   "source": [
    "data"
   ]
  },
  {
   "cell_type": "code",
   "execution_count": 16,
   "metadata": {},
   "outputs": [
    {
     "data": {
      "image/png": "[encoded data removed]",
      "text/plain": [
       "<Figure size 800x200 with 3 Axes>"
      ]
     },
     "metadata": {},
     "output_type": "display_data"
    }
   ],
   "source": [
    "# show the bars!\n",
    "\n",
    "fig,ax = plt.subplots(1,3,figsize=(8,2))\n",
    "\n",
    "# 'naked' bars\n",
    "ax[0].bar(range(n),np.mean(data,axis=0))\n",
    "ax[0].set_title('Bar plot')\n",
    "\n",
    "# just the error bars\n",
    "ax[1].errorbar(range(n),np.mean(data,axis=0),np.std(data,axis=0,ddof=1),marker='s',linestyle='')\n",
    "ax[1].set_title('Errorbar plot')\n",
    "\n",
    "# both\n",
    "ax[2].bar(range(n),np.mean(data,axis=0))\n",
    "ax[2].errorbar(range(n),np.mean(data,axis=0),np.std(data,axis=0,ddof=1),marker='.',linestyle='',color='k')\n",
    "ax[2].set_title('Error+bar plot')\n",
    "\n",
    "plt.show()"
   ]
  },
  {
   "cell_type": "code",
   "execution_count": 18,
   "metadata": {},
   "outputs": [
    {
     "data": {
      "image/png": "[encoded data removed]",
      "text/plain": [
       "<Figure size 640x480 with 1 Axes>"
      ]
     },
     "metadata": {},
     "output_type": "display_data"
    }
   ],
   "source": [
    "## manually specify x-axis coordinates\n",
    "\n",
    "xcrossings = [ 1, 2, 4, 5, 6, 9 ]\n",
    "\n",
    "plt.bar(xcrossings,np.mean(data,axis=0))\n",
    "plt.errorbar(xcrossings,\n",
    "             np.mean(data,axis=0),\n",
    "             np.std(data,axis=0,ddof=1),\n",
    "             marker='.',\n",
    "             linestyle='',\n",
    "             color='k', )\n",
    "plt.title('Bar+error plot')\n",
    "plt.xticks(xcrossings)\n",
    "\n",
    "plt.show()"
   ]
  },
  {
   "cell_type": "code",
   "execution_count": 21,
   "metadata": {},
   "outputs": [
    {
     "data": {
      "image/png": "[encoded data removed]",
      "text/plain": [
       "<Figure size 800x800 with 4 Axes>"
      ]
     },
     "metadata": {},
     "output_type": "display_data"
    }
   ],
   "source": [
    "## note about bars from matrices\n",
    "\n",
    "# data are groups (rows) X property (columns)\n",
    "m = [ [2,5,4,3], [1,1,8,6] ]\n",
    "\n",
    "fig,ax = plt.subplots(nrows=2,ncols=2,figsize=(8,8))\n",
    "\n",
    "# conceptualizing the data as <row> groups of <columns>\n",
    "ax[0,0].imshow(m)\n",
    "\n",
    "# using pandas dataframe\n",
    "df = pd.DataFrame(m,columns=['prop 0','prop 1','prop 2','prop 3'])\n",
    "df.plot(ax=ax[1,0],kind='bar')\n",
    "ax[1,0].set_title('Grouping by rows')\n",
    "\n",
    "\n",
    "# now other orientation (property X group)\n",
    "ax[0,1].imshow(np.array(m).T)\n",
    "\n",
    "df.T.plot(ax=ax[1,1],kind='bar')\n",
    "ax[1,1].set_title('Grouping by columns')\n",
    "\n",
    "plt.show()"
   ]
  },
  {
   "cell_type": "code",
   "execution_count": null,
   "metadata": {},
   "outputs": [],
   "source": []
  }
 ],
 "metadata": {
  "kernelspec": {
   "display_name": "Python 3 (ipykernel)",
   "language": "python",
   "name": "python3"
  },
  "language_info": {
   "codemirror_mode": {
    "name": "ipython",
    "version": 3
   },
   "file_extension": ".py",
   "mimetype": "text/x-python",
   "name": "python",
   "nbconvert_exporter": "python",
   "pygments_lexer": "ipython3",
   "version": "3.9.13"
  }
 },
 "nbformat": 4,
 "nbformat_minor": 4
}
